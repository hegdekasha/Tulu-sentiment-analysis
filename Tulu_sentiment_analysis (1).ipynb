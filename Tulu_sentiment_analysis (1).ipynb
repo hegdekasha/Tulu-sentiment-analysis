{
  "cells": [
    {
      "cell_type": "code",
      "execution_count": null,
      "metadata": {
        "colab": {
          "base_uri": "https://localhost:8080/"
        },
        "id": "olGnh5rhDveO",
        "outputId": "bdbe0a37-d40e-43bd-aa96-d82ea330889a"
      },
      "outputs": [
        {
          "output_type": "stream",
          "name": "stdout",
          "text": [
            "Drive already mounted at /content/drive; to attempt to forcibly remount, call drive.mount(\"/content/drive\", force_remount=True).\n"
          ]
        }
      ],
      "source": [
        "from google.colab import drive\n",
        "drive.mount('/content/drive')"
      ]
    },
    {
      "cell_type": "code",
      "execution_count": null,
      "metadata": {
        "id": "vNidnx8bFJ32"
      },
      "outputs": [],
      "source": [
        "from numpy import array\n",
        "from numpy import asarray\n",
        "from numpy import zeros\n",
        "import os\n",
        "import numpy as np\n",
        "import pandas as pd\n",
        "import matplotlib.pyplot as plt\n",
        "import itertools\n",
        "import string\n",
        "from sklearn.model_selection import train_test_split\n",
        "from sklearn.metrics import accuracy_score, confusion_matrix, classification_report, f1_score\n",
        "from sklearn.feature_extraction.text import  CountVectorizer, TfidfTransformer,TfidfVectorizer\n",
        "from sklearn.ensemble import  RandomForestClassifier\n",
        "import nltk\n",
        "import re"
      ]
    },
    {
      "cell_type": "code",
      "execution_count": null,
      "metadata": {
        "colab": {
          "base_uri": "https://localhost:8080/"
        },
        "id": "_VOsEPaPH6tJ",
        "outputId": "c6406ebe-bee0-4bf7-9fa0-d4a741039e17"
      },
      "outputs": [
        {
          "output_type": "stream",
          "name": "stdout",
          "text": [
            "[nltk_data] Downloading package stopwords to /root/nltk_data...\n",
            "[nltk_data]   Unzipping corpora/stopwords.zip.\n"
          ]
        }
      ],
      "source": [
        "nltk.download('stopwords')\n",
        "stopwords = nltk.corpus.stopwords.words('english')"
      ]
    },
    {
      "cell_type": "code",
      "execution_count": null,
      "metadata": {
        "colab": {
          "base_uri": "https://localhost:8080/",
          "height": 677
        },
        "id": "Ix3vsuAxFTHa",
        "outputId": "e3a7cde2-ff23-4cc1-cc46-5914eacd17dc"
      },
      "outputs": [
        {
          "output_type": "execute_result",
          "data": {
            "text/plain": [
              "                                                 Text    Annotations\n",
              "0   ದೈವ ತನಿಯೆ ಪಂಡಾ ಏರ್...ಅರೆನ ಕಟ್ಲೆ ಕ್ರಮ ದಾದ....ಉಂ...        Neutral\n",
              "1   ದಯಾದೀದ್ ಡಿಲೀಟ್ ಮಲ್ಪುಲೆ,ಅಂಚನೆ ನನ ದೈವೊಲೆನ್ ಯೂಸ್ ...  Mixed Feeling\n",
              "2   Last da lines powefull and sathyoda patera..️ ...       Positive\n",
              "3   ಕತೆ, ನಟನೆ, ಹಿನ್ನೆಲೆ  ಸಂಗೀತ, ಛಾಯಾಗ್ರಹಣ, ಅದ್ಭುತವ...       Not Tulu\n",
              "4   Hats off u all... Mai navirelisuva kshana... S...       Not Tulu\n",
              "5                   ಕೊರಗ  ತನಿಯಾ ಸ್ವಾಮಿ ಶ್ರೀ ಕೊರಗಜ್ಜ ️        Neutral\n",
              "6   ನಂಬಿನಕ್ಲೆಗ್ ಅಜ್ಜೆ ಕೈ ಬುಡಯೆರ್oದ್ ಪನ್ಪಿನ ಪಾತೆರ ಯ...       Positive\n",
              "7           Waaaಎಡ್ಡೆ ರೀತಿ ಡ್ ಮಂದರ್ goosebumpsಕೊರಗಜ್ಜ       Positive\n",
              "8                         Wonderful story ಸ್ವಾಮಿ ಅಜ್ಜ       Positive\n",
              "9   ಸ್ವಾಮಿ ಅಜ್ಜಾ....  ಕಾರ್ಣಿಕದ ಮಣ್ ದ  ನಂಬಿನಕ್ಲೆನ ಕ...       Positive\n",
              "10  Beautiful..... Ajja na karnikada bagge thojayi...       Positive\n",
              "11       ದಾದಾ ಅಣ್ಣ ಉಂದು ನಮ್ಮ ದೈವಾರಾಧನೆ ದೂರ ಪೋವೊಂದುಂಡು  Mixed Feeling\n",
              "12                    excellent...  ಜನೋಕುಲೆಗ್ ಎಡ್ಡೆಡ್       Positive\n",
              "13   ,ಸತ್ಯೋದ ಬೆರಿಯೆ ಸತ್ಯೋಲು ಉಲ್ಲಾ ಪಂಡ್ ತೋಜಾದ್ ಕೊರಿಯರ್       Positive\n",
              "14                                 ಸ್ವಾಮಿ ಅಜ್ಜ ಕಾಪುಲೆ       Positive\n",
              "15            ನಿಮ್ಮಿಂದ ಇಂತಹ ಒಳ್ಳೆಯ ಪ್ರಯತ್ನ ಮೂಡಿಬರಲಿ..       Not Tulu\n",
              "16  ajja mathernla rakshane malpule all tha best t...       Positive\n",
              "17  ದೇವರ ನಂಬಿಕೆ ಗಿಂತ್. ಕರಾವಳಿ ಯಲ್ಲಿ ದೈವನಂಬಿಕೆ ಯೇ ಹ...       Not Tulu\n",
              "18                  Barri yadde kathe swami koragajja       Positive\n",
              "19                         Great work  ಕೊರಗಜ್ಜ ಕಾಪುಲೇ       Positive"
            ],
            "text/html": [
              "\n",
              "  <div id=\"df-807e9eae-b78b-4fe5-a031-e176a864e1aa\">\n",
              "    <div class=\"colab-df-container\">\n",
              "      <div>\n",
              "<style scoped>\n",
              "    .dataframe tbody tr th:only-of-type {\n",
              "        vertical-align: middle;\n",
              "    }\n",
              "\n",
              "    .dataframe tbody tr th {\n",
              "        vertical-align: top;\n",
              "    }\n",
              "\n",
              "    .dataframe thead th {\n",
              "        text-align: right;\n",
              "    }\n",
              "</style>\n",
              "<table border=\"1\" class=\"dataframe\">\n",
              "  <thead>\n",
              "    <tr style=\"text-align: right;\">\n",
              "      <th></th>\n",
              "      <th>Text</th>\n",
              "      <th>Annotations</th>\n",
              "    </tr>\n",
              "  </thead>\n",
              "  <tbody>\n",
              "    <tr>\n",
              "      <th>0</th>\n",
              "      <td>ದೈವ ತನಿಯೆ ಪಂಡಾ ಏರ್...ಅರೆನ ಕಟ್ಲೆ ಕ್ರಮ ದಾದ....ಉಂ...</td>\n",
              "      <td>Neutral</td>\n",
              "    </tr>\n",
              "    <tr>\n",
              "      <th>1</th>\n",
              "      <td>ದಯಾದೀದ್ ಡಿಲೀಟ್ ಮಲ್ಪುಲೆ,ಅಂಚನೆ ನನ ದೈವೊಲೆನ್ ಯೂಸ್ ...</td>\n",
              "      <td>Mixed Feeling</td>\n",
              "    </tr>\n",
              "    <tr>\n",
              "      <th>2</th>\n",
              "      <td>Last da lines powefull and sathyoda patera..️ ...</td>\n",
              "      <td>Positive</td>\n",
              "    </tr>\n",
              "    <tr>\n",
              "      <th>3</th>\n",
              "      <td>ಕತೆ, ನಟನೆ, ಹಿನ್ನೆಲೆ  ಸಂಗೀತ, ಛಾಯಾಗ್ರಹಣ, ಅದ್ಭುತವ...</td>\n",
              "      <td>Not Tulu</td>\n",
              "    </tr>\n",
              "    <tr>\n",
              "      <th>4</th>\n",
              "      <td>Hats off u all... Mai navirelisuva kshana... S...</td>\n",
              "      <td>Not Tulu</td>\n",
              "    </tr>\n",
              "    <tr>\n",
              "      <th>5</th>\n",
              "      <td>ಕೊರಗ  ತನಿಯಾ ಸ್ವಾಮಿ ಶ್ರೀ ಕೊರಗಜ್ಜ ️</td>\n",
              "      <td>Neutral</td>\n",
              "    </tr>\n",
              "    <tr>\n",
              "      <th>6</th>\n",
              "      <td>ನಂಬಿನಕ್ಲೆಗ್ ಅಜ್ಜೆ ಕೈ ಬುಡಯೆರ್oದ್ ಪನ್ಪಿನ ಪಾತೆರ ಯ...</td>\n",
              "      <td>Positive</td>\n",
              "    </tr>\n",
              "    <tr>\n",
              "      <th>7</th>\n",
              "      <td>Waaaಎಡ್ಡೆ ರೀತಿ ಡ್ ಮಂದರ್ goosebumpsಕೊರಗಜ್ಜ</td>\n",
              "      <td>Positive</td>\n",
              "    </tr>\n",
              "    <tr>\n",
              "      <th>8</th>\n",
              "      <td>Wonderful story ಸ್ವಾಮಿ ಅಜ್ಜ</td>\n",
              "      <td>Positive</td>\n",
              "    </tr>\n",
              "    <tr>\n",
              "      <th>9</th>\n",
              "      <td>ಸ್ವಾಮಿ ಅಜ್ಜಾ....  ಕಾರ್ಣಿಕದ ಮಣ್ ದ  ನಂಬಿನಕ್ಲೆನ ಕ...</td>\n",
              "      <td>Positive</td>\n",
              "    </tr>\n",
              "    <tr>\n",
              "      <th>10</th>\n",
              "      <td>Beautiful..... Ajja na karnikada bagge thojayi...</td>\n",
              "      <td>Positive</td>\n",
              "    </tr>\n",
              "    <tr>\n",
              "      <th>11</th>\n",
              "      <td>ದಾದಾ ಅಣ್ಣ ಉಂದು ನಮ್ಮ ದೈವಾರಾಧನೆ ದೂರ ಪೋವೊಂದುಂಡು</td>\n",
              "      <td>Mixed Feeling</td>\n",
              "    </tr>\n",
              "    <tr>\n",
              "      <th>12</th>\n",
              "      <td>excellent...  ಜನೋಕುಲೆಗ್ ಎಡ್ಡೆಡ್</td>\n",
              "      <td>Positive</td>\n",
              "    </tr>\n",
              "    <tr>\n",
              "      <th>13</th>\n",
              "      <td>,ಸತ್ಯೋದ ಬೆರಿಯೆ ಸತ್ಯೋಲು ಉಲ್ಲಾ ಪಂಡ್ ತೋಜಾದ್ ಕೊರಿಯರ್</td>\n",
              "      <td>Positive</td>\n",
              "    </tr>\n",
              "    <tr>\n",
              "      <th>14</th>\n",
              "      <td>ಸ್ವಾಮಿ ಅಜ್ಜ ಕಾಪುಲೆ</td>\n",
              "      <td>Positive</td>\n",
              "    </tr>\n",
              "    <tr>\n",
              "      <th>15</th>\n",
              "      <td>ನಿಮ್ಮಿಂದ ಇಂತಹ ಒಳ್ಳೆಯ ಪ್ರಯತ್ನ ಮೂಡಿಬರಲಿ..</td>\n",
              "      <td>Not Tulu</td>\n",
              "    </tr>\n",
              "    <tr>\n",
              "      <th>16</th>\n",
              "      <td>ajja mathernla rakshane malpule all tha best t...</td>\n",
              "      <td>Positive</td>\n",
              "    </tr>\n",
              "    <tr>\n",
              "      <th>17</th>\n",
              "      <td>ದೇವರ ನಂಬಿಕೆ ಗಿಂತ್. ಕರಾವಳಿ ಯಲ್ಲಿ ದೈವನಂಬಿಕೆ ಯೇ ಹ...</td>\n",
              "      <td>Not Tulu</td>\n",
              "    </tr>\n",
              "    <tr>\n",
              "      <th>18</th>\n",
              "      <td>Barri yadde kathe swami koragajja</td>\n",
              "      <td>Positive</td>\n",
              "    </tr>\n",
              "    <tr>\n",
              "      <th>19</th>\n",
              "      <td>Great work  ಕೊರಗಜ್ಜ ಕಾಪುಲೇ</td>\n",
              "      <td>Positive</td>\n",
              "    </tr>\n",
              "  </tbody>\n",
              "</table>\n",
              "</div>\n",
              "      <button class=\"colab-df-convert\" onclick=\"convertToInteractive('df-807e9eae-b78b-4fe5-a031-e176a864e1aa')\"\n",
              "              title=\"Convert this dataframe to an interactive table.\"\n",
              "              style=\"display:none;\">\n",
              "        \n",
              "  <svg xmlns=\"http://www.w3.org/2000/svg\" height=\"24px\"viewBox=\"0 0 24 24\"\n",
              "       width=\"24px\">\n",
              "    <path d=\"M0 0h24v24H0V0z\" fill=\"none\"/>\n",
              "    <path d=\"M18.56 5.44l.94 2.06.94-2.06 2.06-.94-2.06-.94-.94-2.06-.94 2.06-2.06.94zm-11 1L8.5 8.5l.94-2.06 2.06-.94-2.06-.94L8.5 2.5l-.94 2.06-2.06.94zm10 10l.94 2.06.94-2.06 2.06-.94-2.06-.94-.94-2.06-.94 2.06-2.06.94z\"/><path d=\"M17.41 7.96l-1.37-1.37c-.4-.4-.92-.59-1.43-.59-.52 0-1.04.2-1.43.59L10.3 9.45l-7.72 7.72c-.78.78-.78 2.05 0 2.83L4 21.41c.39.39.9.59 1.41.59.51 0 1.02-.2 1.41-.59l7.78-7.78 2.81-2.81c.8-.78.8-2.07 0-2.86zM5.41 20L4 18.59l7.72-7.72 1.47 1.35L5.41 20z\"/>\n",
              "  </svg>\n",
              "      </button>\n",
              "      \n",
              "  <style>\n",
              "    .colab-df-container {\n",
              "      display:flex;\n",
              "      flex-wrap:wrap;\n",
              "      gap: 12px;\n",
              "    }\n",
              "\n",
              "    .colab-df-convert {\n",
              "      background-color: #E8F0FE;\n",
              "      border: none;\n",
              "      border-radius: 50%;\n",
              "      cursor: pointer;\n",
              "      display: none;\n",
              "      fill: #1967D2;\n",
              "      height: 32px;\n",
              "      padding: 0 0 0 0;\n",
              "      width: 32px;\n",
              "    }\n",
              "\n",
              "    .colab-df-convert:hover {\n",
              "      background-color: #E2EBFA;\n",
              "      box-shadow: 0px 1px 2px rgba(60, 64, 67, 0.3), 0px 1px 3px 1px rgba(60, 64, 67, 0.15);\n",
              "      fill: #174EA6;\n",
              "    }\n",
              "\n",
              "    [theme=dark] .colab-df-convert {\n",
              "      background-color: #3B4455;\n",
              "      fill: #D2E3FC;\n",
              "    }\n",
              "\n",
              "    [theme=dark] .colab-df-convert:hover {\n",
              "      background-color: #434B5C;\n",
              "      box-shadow: 0px 1px 3px 1px rgba(0, 0, 0, 0.15);\n",
              "      filter: drop-shadow(0px 1px 2px rgba(0, 0, 0, 0.3));\n",
              "      fill: #FFFFFF;\n",
              "    }\n",
              "  </style>\n",
              "\n",
              "      <script>\n",
              "        const buttonEl =\n",
              "          document.querySelector('#df-807e9eae-b78b-4fe5-a031-e176a864e1aa button.colab-df-convert');\n",
              "        buttonEl.style.display =\n",
              "          google.colab.kernel.accessAllowed ? 'block' : 'none';\n",
              "\n",
              "        async function convertToInteractive(key) {\n",
              "          const element = document.querySelector('#df-807e9eae-b78b-4fe5-a031-e176a864e1aa');\n",
              "          const dataTable =\n",
              "            await google.colab.kernel.invokeFunction('convertToInteractive',\n",
              "                                                     [key], {});\n",
              "          if (!dataTable) return;\n",
              "\n",
              "          const docLinkHtml = 'Like what you see? Visit the ' +\n",
              "            '<a target=\"_blank\" href=https://colab.research.google.com/notebooks/data_table.ipynb>data table notebook</a>'\n",
              "            + ' to learn more about interactive tables.';\n",
              "          element.innerHTML = '';\n",
              "          dataTable['output_type'] = 'display_data';\n",
              "          await google.colab.output.renderOutput(dataTable, element);\n",
              "          const docLink = document.createElement('div');\n",
              "          docLink.innerHTML = docLinkHtml;\n",
              "          element.appendChild(docLink);\n",
              "        }\n",
              "      </script>\n",
              "    </div>\n",
              "  </div>\n",
              "  "
            ]
          },
          "metadata": {},
          "execution_count": 4
        }
      ],
      "source": [
        "data=pd.read_excel('/content/drive/MyDrive/(updated) final_data_tulu.xlsx')\n",
        "data.head(20)"
      ]
    },
    {
      "cell_type": "code",
      "execution_count": null,
      "metadata": {
        "colab": {
          "base_uri": "https://localhost:8080/"
        },
        "id": "0Zd_ZbG6FolZ",
        "outputId": "e127ad00-956e-4db5-b98a-2b5c9fc49c18"
      },
      "outputs": [
        {
          "output_type": "execute_result",
          "data": {
            "text/plain": [
              "(7171, 2)"
            ]
          },
          "metadata": {},
          "execution_count": 5
        }
      ],
      "source": [
        "data.shape"
      ]
    },
    {
      "cell_type": "code",
      "execution_count": null,
      "metadata": {
        "colab": {
          "base_uri": "https://localhost:8080/"
        },
        "id": "CjsCATZyFrXn",
        "outputId": "9f2d1692-31f1-4f34-9ab6-cda7ab1193de"
      },
      "outputs": [
        {
          "output_type": "execute_result",
          "data": {
            "text/plain": [
              "Positive         3164\n",
              "Neutral          1212\n",
              "Mixed Feeling    1201\n",
              "Not Tulu          924\n",
              "Negative          670\n",
              "Name: Annotations, dtype: int64"
            ]
          },
          "metadata": {},
          "execution_count": 6
        }
      ],
      "source": [
        "data['Annotations'].value_counts()"
      ]
    },
    {
      "cell_type": "code",
      "execution_count": null,
      "metadata": {
        "id": "xXfcvMz1F8NP"
      },
      "outputs": [],
      "source": [
        "def clean_text(text):\n",
        "    text = re.sub('@[a-zA-Z0-9]*', '', text)\n",
        "    text = \"\".join([word.lower() for word in text if word not in string.punctuation]) \n",
        "    text = \"\".join([word for word in text if not word.isdigit()])\n",
        "    text = \" \".join(word for word in text.split() if word not in stopwords)\n",
        "    return text"
      ]
    },
    {
      "cell_type": "code",
      "execution_count": null,
      "metadata": {
        "id": "EpN-L8vGICx1"
      },
      "outputs": [],
      "source": [
        "# feature extraction from train set\n",
        "def feature_extraction(data):\n",
        "    data['clean_text'] = data['Text'].apply(lambda x:clean_text(x))\n",
        "        \n",
        "    data['char_count'] = data['Text'].apply(len)\n",
        "    data['word_count'] = data['Text'].apply(lambda x: len(x.split()))\n",
        "    data['word_density'] = data['char_count'] / (data['word_count']+1)\n",
        "    data['punctuation_count'] = data['Text'].apply(lambda x: len(\"\".join(_ for _ in x if _ in string.punctuation))) \n",
        "    return data"
      ]
    },
    {
      "cell_type": "code",
      "execution_count": null,
      "metadata": {
        "id": "sWzBg0LYJPwW"
      },
      "outputs": [],
      "source": [
        "df=feature_extraction(data)"
      ]
    },
    {
      "cell_type": "code",
      "execution_count": null,
      "metadata": {
        "colab": {
          "base_uri": "https://localhost:8080/",
          "height": 206
        },
        "id": "RHJEBokkJ-gl",
        "outputId": "83110bdf-9b39-407a-a7c9-b765cf69a40e"
      },
      "outputs": [
        {
          "output_type": "execute_result",
          "data": {
            "text/plain": [
              "                                                Text    Annotations  \\\n",
              "0  ದೈವ ತನಿಯೆ ಪಂಡಾ ಏರ್...ಅರೆನ ಕಟ್ಲೆ ಕ್ರಮ ದಾದ....ಉಂ...        Neutral   \n",
              "1  ದಯಾದೀದ್ ಡಿಲೀಟ್ ಮಲ್ಪುಲೆ,ಅಂಚನೆ ನನ ದೈವೊಲೆನ್ ಯೂಸ್ ...  Mixed Feeling   \n",
              "2  Last da lines powefull and sathyoda patera..️ ...       Positive   \n",
              "3  ಕತೆ, ನಟನೆ, ಹಿನ್ನೆಲೆ  ಸಂಗೀತ, ಛಾಯಾಗ್ರಹಣ, ಅದ್ಭುತವ...       Not Tulu   \n",
              "4  Hats off u all... Mai navirelisuva kshana... S...       Not Tulu   \n",
              "\n",
              "                                          clean_text  char_count  word_count  \\\n",
              "0  ದೈವ ತನಿಯೆ ಪಂಡಾ ಏರ್ಅರೆನ ಕಟ್ಲೆ ಕ್ರಮ ದಾದಉಂದು ಮಾತ ...          80          14   \n",
              "1  ದಯಾದೀದ್ ಡಿಲೀಟ್ ಮಲ್ಪುಲೆಅಂಚನೆ ನನ ದೈವೊಲೆನ್ ಯೂಸ್ ಮ...          75          10   \n",
              "2       last da lines powefull sathyoda patera️ ಅಜ್ಜ          50           8   \n",
              "3   ಕತೆ ನಟನೆ ಹಿನ್ನೆಲೆ ಸಂಗೀತ ಛಾಯಾಗ್ರಹಣ ಅದ್ಭುತವಾಗಿದೆ ️          53           7   \n",
              "4     hats u mai navirelisuva kshana swami koragajja          60           9   \n",
              "\n",
              "   word_density  punctuation_count  \n",
              "0      5.333333                  9  \n",
              "1      6.818182                  1  \n",
              "2      5.555556                  2  \n",
              "3      6.625000                  4  \n",
              "4      6.000000                  6  "
            ],
            "text/html": [
              "\n",
              "  <div id=\"df-b20e689b-a40a-44d5-a347-0c6a2c82685f\">\n",
              "    <div class=\"colab-df-container\">\n",
              "      <div>\n",
              "<style scoped>\n",
              "    .dataframe tbody tr th:only-of-type {\n",
              "        vertical-align: middle;\n",
              "    }\n",
              "\n",
              "    .dataframe tbody tr th {\n",
              "        vertical-align: top;\n",
              "    }\n",
              "\n",
              "    .dataframe thead th {\n",
              "        text-align: right;\n",
              "    }\n",
              "</style>\n",
              "<table border=\"1\" class=\"dataframe\">\n",
              "  <thead>\n",
              "    <tr style=\"text-align: right;\">\n",
              "      <th></th>\n",
              "      <th>Text</th>\n",
              "      <th>Annotations</th>\n",
              "      <th>clean_text</th>\n",
              "      <th>char_count</th>\n",
              "      <th>word_count</th>\n",
              "      <th>word_density</th>\n",
              "      <th>punctuation_count</th>\n",
              "    </tr>\n",
              "  </thead>\n",
              "  <tbody>\n",
              "    <tr>\n",
              "      <th>0</th>\n",
              "      <td>ದೈವ ತನಿಯೆ ಪಂಡಾ ಏರ್...ಅರೆನ ಕಟ್ಲೆ ಕ್ರಮ ದಾದ....ಉಂ...</td>\n",
              "      <td>Neutral</td>\n",
              "      <td>ದೈವ ತನಿಯೆ ಪಂಡಾ ಏರ್ಅರೆನ ಕಟ್ಲೆ ಕ್ರಮ ದಾದಉಂದು ಮಾತ ...</td>\n",
              "      <td>80</td>\n",
              "      <td>14</td>\n",
              "      <td>5.333333</td>\n",
              "      <td>9</td>\n",
              "    </tr>\n",
              "    <tr>\n",
              "      <th>1</th>\n",
              "      <td>ದಯಾದೀದ್ ಡಿಲೀಟ್ ಮಲ್ಪುಲೆ,ಅಂಚನೆ ನನ ದೈವೊಲೆನ್ ಯೂಸ್ ...</td>\n",
              "      <td>Mixed Feeling</td>\n",
              "      <td>ದಯಾದೀದ್ ಡಿಲೀಟ್ ಮಲ್ಪುಲೆಅಂಚನೆ ನನ ದೈವೊಲೆನ್ ಯೂಸ್ ಮ...</td>\n",
              "      <td>75</td>\n",
              "      <td>10</td>\n",
              "      <td>6.818182</td>\n",
              "      <td>1</td>\n",
              "    </tr>\n",
              "    <tr>\n",
              "      <th>2</th>\n",
              "      <td>Last da lines powefull and sathyoda patera..️ ...</td>\n",
              "      <td>Positive</td>\n",
              "      <td>last da lines powefull sathyoda patera️ ಅಜ್ಜ</td>\n",
              "      <td>50</td>\n",
              "      <td>8</td>\n",
              "      <td>5.555556</td>\n",
              "      <td>2</td>\n",
              "    </tr>\n",
              "    <tr>\n",
              "      <th>3</th>\n",
              "      <td>ಕತೆ, ನಟನೆ, ಹಿನ್ನೆಲೆ  ಸಂಗೀತ, ಛಾಯಾಗ್ರಹಣ, ಅದ್ಭುತವ...</td>\n",
              "      <td>Not Tulu</td>\n",
              "      <td>ಕತೆ ನಟನೆ ಹಿನ್ನೆಲೆ ಸಂಗೀತ ಛಾಯಾಗ್ರಹಣ ಅದ್ಭುತವಾಗಿದೆ ️</td>\n",
              "      <td>53</td>\n",
              "      <td>7</td>\n",
              "      <td>6.625000</td>\n",
              "      <td>4</td>\n",
              "    </tr>\n",
              "    <tr>\n",
              "      <th>4</th>\n",
              "      <td>Hats off u all... Mai navirelisuva kshana... S...</td>\n",
              "      <td>Not Tulu</td>\n",
              "      <td>hats u mai navirelisuva kshana swami koragajja</td>\n",
              "      <td>60</td>\n",
              "      <td>9</td>\n",
              "      <td>6.000000</td>\n",
              "      <td>6</td>\n",
              "    </tr>\n",
              "  </tbody>\n",
              "</table>\n",
              "</div>\n",
              "      <button class=\"colab-df-convert\" onclick=\"convertToInteractive('df-b20e689b-a40a-44d5-a347-0c6a2c82685f')\"\n",
              "              title=\"Convert this dataframe to an interactive table.\"\n",
              "              style=\"display:none;\">\n",
              "        \n",
              "  <svg xmlns=\"http://www.w3.org/2000/svg\" height=\"24px\"viewBox=\"0 0 24 24\"\n",
              "       width=\"24px\">\n",
              "    <path d=\"M0 0h24v24H0V0z\" fill=\"none\"/>\n",
              "    <path d=\"M18.56 5.44l.94 2.06.94-2.06 2.06-.94-2.06-.94-.94-2.06-.94 2.06-2.06.94zm-11 1L8.5 8.5l.94-2.06 2.06-.94-2.06-.94L8.5 2.5l-.94 2.06-2.06.94zm10 10l.94 2.06.94-2.06 2.06-.94-2.06-.94-.94-2.06-.94 2.06-2.06.94z\"/><path d=\"M17.41 7.96l-1.37-1.37c-.4-.4-.92-.59-1.43-.59-.52 0-1.04.2-1.43.59L10.3 9.45l-7.72 7.72c-.78.78-.78 2.05 0 2.83L4 21.41c.39.39.9.59 1.41.59.51 0 1.02-.2 1.41-.59l7.78-7.78 2.81-2.81c.8-.78.8-2.07 0-2.86zM5.41 20L4 18.59l7.72-7.72 1.47 1.35L5.41 20z\"/>\n",
              "  </svg>\n",
              "      </button>\n",
              "      \n",
              "  <style>\n",
              "    .colab-df-container {\n",
              "      display:flex;\n",
              "      flex-wrap:wrap;\n",
              "      gap: 12px;\n",
              "    }\n",
              "\n",
              "    .colab-df-convert {\n",
              "      background-color: #E8F0FE;\n",
              "      border: none;\n",
              "      border-radius: 50%;\n",
              "      cursor: pointer;\n",
              "      display: none;\n",
              "      fill: #1967D2;\n",
              "      height: 32px;\n",
              "      padding: 0 0 0 0;\n",
              "      width: 32px;\n",
              "    }\n",
              "\n",
              "    .colab-df-convert:hover {\n",
              "      background-color: #E2EBFA;\n",
              "      box-shadow: 0px 1px 2px rgba(60, 64, 67, 0.3), 0px 1px 3px 1px rgba(60, 64, 67, 0.15);\n",
              "      fill: #174EA6;\n",
              "    }\n",
              "\n",
              "    [theme=dark] .colab-df-convert {\n",
              "      background-color: #3B4455;\n",
              "      fill: #D2E3FC;\n",
              "    }\n",
              "\n",
              "    [theme=dark] .colab-df-convert:hover {\n",
              "      background-color: #434B5C;\n",
              "      box-shadow: 0px 1px 3px 1px rgba(0, 0, 0, 0.15);\n",
              "      filter: drop-shadow(0px 1px 2px rgba(0, 0, 0, 0.3));\n",
              "      fill: #FFFFFF;\n",
              "    }\n",
              "  </style>\n",
              "\n",
              "      <script>\n",
              "        const buttonEl =\n",
              "          document.querySelector('#df-b20e689b-a40a-44d5-a347-0c6a2c82685f button.colab-df-convert');\n",
              "        buttonEl.style.display =\n",
              "          google.colab.kernel.accessAllowed ? 'block' : 'none';\n",
              "\n",
              "        async function convertToInteractive(key) {\n",
              "          const element = document.querySelector('#df-b20e689b-a40a-44d5-a347-0c6a2c82685f');\n",
              "          const dataTable =\n",
              "            await google.colab.kernel.invokeFunction('convertToInteractive',\n",
              "                                                     [key], {});\n",
              "          if (!dataTable) return;\n",
              "\n",
              "          const docLinkHtml = 'Like what you see? Visit the ' +\n",
              "            '<a target=\"_blank\" href=https://colab.research.google.com/notebooks/data_table.ipynb>data table notebook</a>'\n",
              "            + ' to learn more about interactive tables.';\n",
              "          element.innerHTML = '';\n",
              "          dataTable['output_type'] = 'display_data';\n",
              "          await google.colab.output.renderOutput(dataTable, element);\n",
              "          const docLink = document.createElement('div');\n",
              "          docLink.innerHTML = docLinkHtml;\n",
              "          element.appendChild(docLink);\n",
              "        }\n",
              "      </script>\n",
              "    </div>\n",
              "  </div>\n",
              "  "
            ]
          },
          "metadata": {},
          "execution_count": 11
        }
      ],
      "source": [
        "df.head()"
      ]
    },
    {
      "cell_type": "code",
      "execution_count": null,
      "metadata": {
        "id": "QmpFGFkGIvZk"
      },
      "outputs": [],
      "source": [
        "X_train, X_test, y_train, y_test = train_test_split(df['Text'], df.Annotations, random_state=5, test_size=0.2)"
      ]
    },
    {
      "cell_type": "code",
      "source": [
        "y_train.value_counts()"
      ],
      "metadata": {
        "colab": {
          "base_uri": "https://localhost:8080/"
        },
        "id": "Brr3YIHAbFzL",
        "outputId": "5f24aff3-2dcf-4cba-9382-444e190eb238"
      },
      "execution_count": null,
      "outputs": [
        {
          "output_type": "execute_result",
          "data": {
            "text/plain": [
              "Positive         2501\n",
              "Neutral           984\n",
              "Mixed Feeling     953\n",
              "Not Tulu          750\n",
              "Negative          548\n",
              "Name: Annotations, dtype: int64"
            ]
          },
          "metadata": {},
          "execution_count": 13
        }
      ]
    },
    {
      "cell_type": "code",
      "source": [
        "y_test.value_counts()"
      ],
      "metadata": {
        "colab": {
          "base_uri": "https://localhost:8080/"
        },
        "id": "P3jnF5-abnuZ",
        "outputId": "f04d34c8-a933-44b0-d565-7f0f7d581ddc"
      },
      "execution_count": null,
      "outputs": [
        {
          "output_type": "execute_result",
          "data": {
            "text/plain": [
              "Positive         663\n",
              "Mixed Feeling    248\n",
              "Neutral          228\n",
              "Not Tulu         174\n",
              "Negative         122\n",
              "Name: Annotations, dtype: int64"
            ]
          },
          "metadata": {},
          "execution_count": 14
        }
      ]
    },
    {
      "cell_type": "code",
      "source": [
        "import regex \n",
        "\n",
        "def custom_analyzer(text):\n",
        "    words = regex.findall(r'\\w{2,}', text) # extract words of at least 2 letters\n",
        "    for w in words:\n",
        "        yield w"
      ],
      "metadata": {
        "id": "EYlcWQI7xitQ"
      },
      "execution_count": null,
      "outputs": []
    },
    {
      "cell_type": "code",
      "execution_count": null,
      "metadata": {
        "id": "eUp3iyFfJua9",
        "colab": {
          "base_uri": "https://localhost:8080/"
        },
        "outputId": "5349bca5-955a-43a9-a9ec-a317ed2f3716"
      },
      "outputs": [
        {
          "output_type": "stream",
          "name": "stderr",
          "text": [
            "/usr/local/lib/python3.7/dist-packages/sklearn/feature_extraction/text.py:533: UserWarning: The parameter 'ngram_range' will not be used since 'analyzer' is callable'\n",
            "  \"The parameter 'ngram_range' will not be used\"\n"
          ]
        }
      ],
      "source": [
        "# characters level tf-idf\n",
        "from sklearn.feature_extraction.text import  CountVectorizer, TfidfTransformer,TfidfVectorizer\n",
        "#tfidf_vect_ngram_chars = TfidfVectorizer(analyzer='word',ngram_range=(2,3))\n",
        "tfidf_vect_ngram_chars = TfidfVectorizer(analyzer=custom_analyzer,ngram_range=(2,3))\n",
        "tfidf_vect_ngram_chars.fit(X_train)\n",
        "xtrain_tfidf_ngram_chars =  tfidf_vect_ngram_chars.transform(X_train) \n",
        "xtest_tfidf_ngram_chars =  tfidf_vect_ngram_chars.transform(X_test) "
      ]
    },
    {
      "cell_type": "code",
      "source": [
        "# a=tfidf_vect_ngram_chars.get_feature_names()\n",
        "\n",
        "# with open('/content/drive/MyDrive/tfidf.txt','w')as o:\n",
        "#   for i in a:\n",
        "#     o.write(i)\n",
        "#     o.write('\\n')\n"
      ],
      "metadata": {
        "colab": {
          "base_uri": "https://localhost:8080/"
        },
        "id": "Ad2QOdfDIeo7",
        "outputId": "d630cb45-3bf3-442a-d22e-8227453d8ca6"
      },
      "execution_count": null,
      "outputs": [
        {
          "output_type": "stream",
          "name": "stderr",
          "text": [
            "/usr/local/lib/python3.7/dist-packages/sklearn/utils/deprecation.py:87: FutureWarning: Function get_feature_names is deprecated; get_feature_names is deprecated in 1.0 and will be removed in 1.2. Please use get_feature_names_out instead.\n",
            "  warnings.warn(msg, category=FutureWarning)\n"
          ]
        }
      ]
    },
    {
      "cell_type": "code",
      "source": [
        "xtrain_tfidf_ngram_chars.shape,xtest_tfidf_ngram_chars.shape"
      ],
      "metadata": {
        "colab": {
          "base_uri": "https://localhost:8080/"
        },
        "id": "TV4EZaENV96_",
        "outputId": "f2fb37ef-214c-471d-bb34-18a72071e044"
      },
      "execution_count": null,
      "outputs": [
        {
          "output_type": "execute_result",
          "data": {
            "text/plain": [
              "((5736, 12940), (1435, 12940))"
            ]
          },
          "metadata": {},
          "execution_count": 37
        }
      ]
    },
    {
      "cell_type": "code",
      "source": [
        "(5736, 12940)"
      ],
      "metadata": {
        "id": "eXu1sgoHwTM1"
      },
      "execution_count": null,
      "outputs": []
    },
    {
      "cell_type": "code",
      "execution_count": null,
      "metadata": {
        "id": "RAcQzGeoKM61"
      },
      "outputs": [],
      "source": [
        "# # to construct tfidf \n",
        "\n",
        "# count_vect = CountVectorizer()\n",
        "# cv_vect= count_vect.fit(X_train)\n",
        "# cv_vect_train= count_vect.transform(X_train)\n",
        "# cv_vect_test= count_vect.transform(X_test)\n",
        "\n",
        "# tfidf_transformer = TfidfTransformer()\n",
        "# X_tfidf = tfidf_transformer.fit(cv_vect_train)\n",
        "# X_tfidf_train = tfidf_transformer.transform(cv_vect_train)\n",
        "# X_tfidf_test = tfidf_transformer.transform(cv_vect_test)\n",
        "\n",
        "# # train set\n",
        "# X_features_train = pd.concat([pd.DataFrame(X_tfidf_train.toarray()),pd.DataFrame(xtrain_tfidf_ngram_chars.toarray())], axis=1)\n",
        "\n",
        "# #test set\n",
        "# X_features_test = pd.concat([pd.DataFrame(X_tfidf_test.toarray()),pd.DataFrame(xtest_tfidf_ngram_chars.toarray())], axis=1)"
      ]
    },
    {
      "cell_type": "code",
      "execution_count": null,
      "metadata": {
        "colab": {
          "base_uri": "https://localhost:8080/"
        },
        "id": "O0dCyViWLF3n",
        "outputId": "f907e5a1-be54-4b27-dfc7-4c3701b503af"
      },
      "outputs": [
        {
          "output_type": "stream",
          "name": "stdout",
          "text": [
            "Test Accuracy: 51.9164\n",
            "\n",
            "                precision    recall  f1-score   support\n",
            "\n",
            "Mixed Feeling       0.39      0.04      0.07       248\n",
            "     Negative       0.83      0.04      0.08       122\n",
            "      Neutral       0.71      0.18      0.29       228\n",
            "     Not Tulu       1.00      0.17      0.29       174\n",
            "     Positive       0.50      1.00      0.67       663\n",
            "\n",
            "     accuracy                           0.52      1435\n",
            "    macro avg       0.69      0.28      0.28      1435\n",
            " weighted avg       0.60      0.52      0.41      1435\n",
            "\n"
          ]
        }
      ],
      "source": [
        "from sklearn.naive_bayes import MultinomialNB\n",
        "\n",
        "clf = MultinomialNB()\n",
        "\n",
        "clf.fit(xtrain_tfidf_ngram_chars, y_train) \n",
        "\n",
        "y_pred = clf.predict(xtest_tfidf_ngram_chars) \n",
        "\n",
        "accuracy = accuracy_score(y_test, y_pred)\n",
        "\n",
        "print(\"Test Accuracy:\", round(accuracy*100, 4))\n",
        "\n",
        "print(\"\\n\", classification_report(y_test, y_pred))"
      ]
    },
    {
      "cell_type": "code",
      "execution_count": null,
      "metadata": {
        "colab": {
          "base_uri": "https://localhost:8080/"
        },
        "id": "QviQZa6FLemC",
        "outputId": "fe9393f0-273a-4d97-8eb7-9f452a75aa0f"
      },
      "outputs": [
        {
          "output_type": "stream",
          "name": "stdout",
          "text": [
            "Test Accuracy: 58.1185\n",
            "\n",
            "                precision    recall  f1-score   support\n",
            "\n",
            "Mixed Feeling       0.53      0.19      0.28       248\n",
            "     Negative       0.46      0.17      0.25       122\n",
            "      Neutral       0.35      0.70      0.46       228\n",
            "     Not Tulu       0.83      0.28      0.42       174\n",
            "     Positive       0.72      0.84      0.77       663\n",
            "\n",
            "     accuracy                           0.58      1435\n",
            "    macro avg       0.58      0.44      0.44      1435\n",
            " weighted avg       0.62      0.58      0.55      1435\n",
            "\n"
          ]
        }
      ],
      "source": [
        "from sklearn.ensemble import RandomForestClassifier\n",
        "rf=RandomForestClassifier(n_estimators=100, max_depth=None, n_jobs=-1)\n",
        "rf.fit(xtrain_tfidf_ngram_chars, y_train) \n",
        "\n",
        "y_pred = rf.predict(xtest_tfidf_ngram_chars) \n",
        "\n",
        "accuracy = accuracy_score(y_test, y_pred)\n",
        "\n",
        "print(\"Test Accuracy:\", round(accuracy*100, 4))\n",
        "\n",
        "print(\"\\n\", classification_report(y_test, y_pred))"
      ]
    },
    {
      "cell_type": "code",
      "execution_count": null,
      "metadata": {
        "colab": {
          "base_uri": "https://localhost:8080/"
        },
        "id": "vLDOR4xEMBwl",
        "outputId": "3ae5b271-7953-4ccd-a363-a5388e988b7c"
      },
      "outputs": [
        {
          "output_type": "stream",
          "name": "stdout",
          "text": [
            "Test Accuracy: 61.6028\n",
            "\n",
            "                precision    recall  f1-score   support\n",
            "\n",
            "Mixed Feeling       0.47      0.25      0.33       248\n",
            "     Negative       0.49      0.17      0.25       122\n",
            "      Neutral       0.54      0.40      0.46       228\n",
            "     Not Tulu       0.90      0.44      0.59       174\n",
            "     Positive       0.63      0.96      0.76       663\n",
            "\n",
            "     accuracy                           0.62      1435\n",
            "    macro avg       0.61      0.44      0.48      1435\n",
            " weighted avg       0.61      0.62      0.57      1435\n",
            "\n"
          ]
        },
        {
          "output_type": "stream",
          "name": "stderr",
          "text": [
            "/usr/local/lib/python3.7/dist-packages/sklearn/linear_model/_logistic.py:818: ConvergenceWarning: lbfgs failed to converge (status=1):\n",
            "STOP: TOTAL NO. of ITERATIONS REACHED LIMIT.\n",
            "\n",
            "Increase the number of iterations (max_iter) or scale the data as shown in:\n",
            "    https://scikit-learn.org/stable/modules/preprocessing.html\n",
            "Please also refer to the documentation for alternative solver options:\n",
            "    https://scikit-learn.org/stable/modules/linear_model.html#logistic-regression\n",
            "  extra_warning_msg=_LOGISTIC_SOLVER_CONVERGENCE_MSG,\n"
          ]
        }
      ],
      "source": [
        "from sklearn.linear_model import LogisticRegression\n",
        "lr= LogisticRegression()\n",
        "lr.fit(xtrain_tfidf_ngram_chars, y_train) \n",
        "\n",
        "y_pred = lr.predict(xtest_tfidf_ngram_chars) \n",
        "\n",
        "accuracy = accuracy_score(y_test, y_pred)\n",
        "\n",
        "print(\"Test Accuracy:\", round(accuracy*100, 4))\n",
        "\n",
        "print(\"\\n\", classification_report(y_test, y_pred))"
      ]
    },
    {
      "cell_type": "code",
      "execution_count": null,
      "metadata": {
        "colab": {
          "base_uri": "https://localhost:8080/"
        },
        "id": "fXrP6CNwNaKu",
        "outputId": "9647a3e0-0892-4f42-ce87-dd7159633467"
      },
      "outputs": [
        {
          "output_type": "stream",
          "name": "stdout",
          "text": [
            "Test Accuracy: 62.5087\n",
            "\n",
            "                precision    recall  f1-score   support\n",
            "\n",
            "Mixed Feeling       0.41      0.29      0.34       248\n",
            "     Negative       0.45      0.33      0.38       122\n",
            "      Neutral       0.49      0.43      0.46       228\n",
            "     Not Tulu       0.82      0.57      0.68       174\n",
            "     Positive       0.69      0.89      0.78       663\n",
            "\n",
            "     accuracy                           0.63      1435\n",
            "    macro avg       0.57      0.50      0.53      1435\n",
            " weighted avg       0.61      0.63      0.60      1435\n",
            "\n"
          ]
        }
      ],
      "source": [
        "from sklearn import svm\n",
        "lisvm = svm.LinearSVC()\n",
        "lisvm.fit(xtrain_tfidf_ngram_chars, y_train) \n",
        "y_pred = lisvm.predict(xtest_tfidf_ngram_chars) \n",
        "accuracy = accuracy_score(y_test, y_pred)\n",
        "print(\"Test Accuracy:\", round(accuracy*100, 4))\n",
        "print(\"\\n\", classification_report(y_test, y_pred))"
      ]
    },
    {
      "cell_type": "code",
      "execution_count": null,
      "metadata": {
        "colab": {
          "base_uri": "https://localhost:8080/"
        },
        "id": "9xaJb8vHNpzC",
        "outputId": "2c209837-caeb-4fb6-bf40-2a62ce3edede"
      },
      "outputs": [
        {
          "output_type": "stream",
          "name": "stdout",
          "text": [
            "Test Accuracy: 53.1707\n",
            "\n",
            "                precision    recall  f1-score   support\n",
            "\n",
            "Mixed Feeling       0.35      0.23      0.28       248\n",
            "     Negative       0.31      0.22      0.26       122\n",
            "      Neutral       0.32      0.54      0.40       228\n",
            "     Not Tulu       0.57      0.32      0.41       174\n",
            "     Positive       0.72      0.75      0.73       663\n",
            "\n",
            "     accuracy                           0.53      1435\n",
            "    macro avg       0.45      0.41      0.42      1435\n",
            " weighted avg       0.54      0.53      0.52      1435\n",
            "\n"
          ]
        }
      ],
      "source": [
        "from sklearn.tree import DecisionTreeClassifier\n",
        "dt = DecisionTreeClassifier()\n",
        "dt.fit(xtrain_tfidf_ngram_chars, y_train) \n",
        "y_pred = dt.predict(xtest_tfidf_ngram_chars) \n",
        "accuracy = accuracy_score(y_test, y_pred)\n",
        "print(\"Test Accuracy:\", round(accuracy*100, 4))\n",
        "print(\"\\n\", classification_report(y_test, y_pred))"
      ]
    },
    {
      "cell_type": "code",
      "execution_count": null,
      "metadata": {
        "colab": {
          "base_uri": "https://localhost:8080/"
        },
        "id": "e-pAAvIROFbQ",
        "outputId": "ad240847-22b0-4498-fad9-0e994d92ecdc"
      },
      "outputs": [
        {
          "output_type": "stream",
          "name": "stdout",
          "text": [
            "Test Accuracy: 56.0976\n",
            "\n",
            "                precision    recall  f1-score   support\n",
            "\n",
            "Mixed Feeling       0.28      0.33      0.30       248\n",
            "     Negative       0.35      0.29      0.32       122\n",
            "      Neutral       0.40      0.34      0.37       228\n",
            "     Not Tulu       0.78      0.42      0.54       174\n",
            "     Positive       0.71      0.81      0.76       663\n",
            "\n",
            "     accuracy                           0.56      1435\n",
            "    macro avg       0.50      0.44      0.46      1435\n",
            " weighted avg       0.56      0.56      0.55      1435\n",
            "\n"
          ]
        }
      ],
      "source": [
        "from sklearn.neighbors import KNeighborsClassifier\n",
        "neigh = KNeighborsClassifier(n_neighbors=3)\n",
        "neigh.fit(xtrain_tfidf_ngram_chars, y_train) \n",
        "y_pred = neigh.predict(xtest_tfidf_ngram_chars) \n",
        "accuracy = accuracy_score(y_test, y_pred)\n",
        "print(\"Test Accuracy:\", round(accuracy*100, 4))\n",
        "print(\"\\n\", classification_report(y_test, y_pred))"
      ]
    },
    {
      "cell_type": "code",
      "execution_count": null,
      "metadata": {
        "colab": {
          "base_uri": "https://localhost:8080/"
        },
        "id": "xJFIvbH1OV79",
        "outputId": "43d4c57c-d928-4b76-95fb-805ed4f3c151"
      },
      "outputs": [
        {
          "output_type": "stream",
          "name": "stdout",
          "text": [
            "Test Accuracy: 61.115\n",
            "\n",
            "                precision    recall  f1-score   support\n",
            "\n",
            "Mixed Feeling       0.41      0.36      0.38       248\n",
            "     Negative       0.43      0.29      0.34       122\n",
            "      Neutral       0.43      0.46      0.45       228\n",
            "     Not Tulu       0.77      0.56      0.65       174\n",
            "     Positive       0.72      0.83      0.77       663\n",
            "\n",
            "     accuracy                           0.61      1435\n",
            "    macro avg       0.55      0.50      0.52      1435\n",
            " weighted avg       0.60      0.61      0.60      1435\n",
            "\n"
          ]
        }
      ],
      "source": [
        "from sklearn.neural_network import MLPClassifier\n",
        "mlp = MLPClassifier(random_state=1, max_iter=300)\n",
        "mlp.fit(xtrain_tfidf_ngram_chars, y_train) \n",
        "y_pred = mlp.predict(xtest_tfidf_ngram_chars) \n",
        "accuracy = accuracy_score(y_test, y_pred)\n",
        "print(\"Test Accuracy:\", round(accuracy*100, 4))\n",
        "print(\"\\n\", classification_report(y_test, y_pred))"
      ]
    },
    {
      "cell_type": "code",
      "execution_count": null,
      "metadata": {
        "colab": {
          "base_uri": "https://localhost:8080/"
        },
        "id": "IkwHTYzjOmYH",
        "outputId": "db9f2fcd-382c-4315-c0f0-8b77e753499c"
      },
      "outputs": [
        {
          "output_type": "stream",
          "name": "stdout",
          "text": [
            "Fitting 5 folds for each of 3 candidates, totalling 15 fits\n",
            "               precision    recall  f1-score   support\n",
            "\n",
            "Mixed Feeling       0.36      0.47      0.41       248\n",
            "     Negative       0.50      0.28      0.36       122\n",
            "      Neutral       0.43      0.56      0.49       228\n",
            "     Not Tulu       0.83      0.54      0.66       174\n",
            "     Positive       0.80      0.77      0.78       663\n",
            "\n",
            "     accuracy                           0.61      1435\n",
            "    macro avg       0.58      0.52      0.54      1435\n",
            " weighted avg       0.64      0.61      0.62      1435\n",
            "\n"
          ]
        }
      ],
      "source": [
        "from sklearn.model_selection import cross_val_score\n",
        "from sklearn.model_selection import StratifiedKFold, cross_val_score, KFold, cross_val_score, GridSearchCV \n",
        "from sklearn.svm import SVC\n",
        "\n",
        "kfolds = StratifiedKFold(n_splits=5, shuffle=True, random_state=42)\n",
        "#Support Vector Machine(SVM)\n",
        "grid_svm = GridSearchCV(estimator = SVC(probability=True, class_weight=\"balanced\", random_state=42),\n",
        "                    param_grid = {'C': [0.01, 0.1, 1]}, \n",
        "                    cv = kfolds, verbose=1) \n",
        "grid_svm.fit(xtrain_tfidf_ngram_chars, y_train)\n",
        "svm = grid_svm.predict(xtest_tfidf_ngram_chars)\n",
        "print(classification_report(y_test, svm))\n"
      ]
    }
  ],
  "metadata": {
    "accelerator": "GPU",
    "colab": {
      "name": "Tulu sentiment analysis.ipynb",
      "provenance": []
    },
    "kernelspec": {
      "display_name": "Python 3",
      "name": "python3"
    },
    "language_info": {
      "name": "python"
    }
  },
  "nbformat": 4,
  "nbformat_minor": 0
}